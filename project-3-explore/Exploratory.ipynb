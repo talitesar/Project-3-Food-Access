{
 "cells": [
  {
   "cell_type": "code",
   "execution_count": 24,
   "metadata": {},
   "outputs": [],
   "source": [
    "import pandas as pd\n",
    "import requests\n",
    "import json\n",
    "import numpy as np\n"
   ]
  },
  {
   "cell_type": "code",
   "execution_count": 25,
   "metadata": {},
   "outputs": [],
   "source": [
    "filepath = \"\"\"../2019 Food Access Research Atlas Data/Food Access Research Atlas.csv\"\"\"\n",
    "data = pd.read_csv(filepath)"
   ]
  },
  {
   "cell_type": "code",
   "execution_count": 51,
   "metadata": {},
   "outputs": [],
   "source": [
    "texas = data.loc[data[\"State\"]==\"Texas\",:]\n",
    "texas = texas[['CensusTract','State','County','Urban','Pop2010','OHU2010','LILATracts_1And10','LILATracts_halfAnd10','HUNVFlag','LowIncomeTracts',\n",
    "'PovertyRate','MedianFamilyIncome','LA1and10','LAhalfand10','LATracts_half','LALOWI1_10','LALOWI05_10','lahunvhalf','lahunvhalfshare']]"
   ]
  },
  {
   "cell_type": "code",
   "execution_count": 27,
   "metadata": {},
   "outputs": [],
   "source": [
    "# Open McDonald's JSON file\n",
    "json_file = open(\"mcdata.json\")\n",
    "mcdonalds = json.load(json_file)[\"features\"]\n",
    "\n",
    "# Store all the McDonalds in Texas\n",
    "mcdonalds_tx = [store for store in mcdonalds if store['properties']['state']=='TX']\n",
    "\n",
    "# Store lats and lons of each McDonald's restaurant in US\n",
    "lats = [store['geometry']['coordinates'][1] for store in mcdonalds_tx]\n",
    "lons = [store['geometry']['coordinates'][0] for store in mcdonalds_tx]"
   ]
  },
  {
   "cell_type": "code",
   "execution_count": 28,
   "metadata": {},
   "outputs": [],
   "source": [
    "# Store the base URL - this API takes geographical coordinates and returns the Census Tract that those coordinates fall into\n",
    "base_url = \"https://geo.fcc.gov/api/census/area?\"\n",
    "\n",
    "# Initialize an empty list to store the census tract info for each store\n",
    "census_tracts = []\n",
    "\n",
    "# Loop through the stores in texas using enumerate\n",
    "for i in range(len(mcdonalds_tx)):\n",
    "\n",
    "    # create a url for each store using the latitude and longitutde and base\n",
    "    store_url = f'{base_url}lat={lats[i]}&lon={lons[i]}&censusYear=2010&format=json'\n",
    "\n",
    "   # Run API request for each store\n",
    "    try:\n",
    "        # Store the results\n",
    "       results = requests.get(store_url).json()\n",
    "       \n",
    "       # Store the tract number - NOTE: only the first 11 digits because the API number is more specific than the Food Access Research Atlas\n",
    "       tract = results[\"results\"][0][\"block_fips\"][0:-4]\n",
    "\n",
    "        # Append the tract number to a list\n",
    "       census_tracts.append(tract)\n",
    "\n",
    "    except:\n",
    "       print(\"No tract available\")\n",
    "       pass\n"
   ]
  },
  {
   "cell_type": "code",
   "execution_count": 121,
   "metadata": {},
   "outputs": [
    {
     "name": "stderr",
     "output_type": "stream",
     "text": [
      "/var/folders/qv/k02r_ndj5gs6km5fylp92pwc0000gp/T/ipykernel_77337/407928579.py:7: SettingWithCopyWarning: \n",
      "A value is trying to be set on a copy of a slice from a DataFrame.\n",
      "Try using .loc[row_indexer,col_indexer] = value instead\n",
      "\n",
      "See the caveats in the documentation: https://pandas.pydata.org/pandas-docs/stable/user_guide/indexing.html#returning-a-view-versus-a-copy\n",
      "  mctracts[\"NumMcD\"] = mctracts2\n"
     ]
    }
   ],
   "source": [
    "census_tracts = [int(tract) for tract in census_tracts]\n",
    "mctracts = pd.DataFrame(census_tracts, columns=[\"CensusTract\"])\n",
    "mctracts[\"HasMcD\"] = 1\n",
    "mctracts_grp = mctracts.groupby(\"CensusTract\")\n",
    "mctracts2 = mctracts.groupby(\"CensusTract\")[\"HasMcD\"].sum()\n",
    "mctracts = mctracts.drop_duplicates(\"CensusTract\")\n",
    "mctracts[\"NumMcD\"] = mctracts2"
   ]
  },
  {
   "cell_type": "code",
   "execution_count": null,
   "metadata": {},
   "outputs": [],
   "source": [
    "tx_tracts = pd.DataFrame(texas[\"CensusTract\"],columns=[\"CensusTract\"])\n",
    "test = pd.merge(tx_tracts,mctracts,how=\"right\",on=\"CensusTract\")\n",
    "test.count()"
   ]
  },
  {
   "cell_type": "code",
   "execution_count": 30,
   "metadata": {},
   "outputs": [
    {
     "data": {
      "text/plain": [
       "1201"
      ]
     },
     "execution_count": 30,
     "metadata": {},
     "output_type": "execute_result"
    }
   ],
   "source": [
    "len(mcdonalds_tx)"
   ]
  },
  {
   "cell_type": "code",
   "execution_count": null,
   "metadata": {},
   "outputs": [],
   "source": []
  }
 ],
 "metadata": {
  "kernelspec": {
   "display_name": "base",
   "language": "python",
   "name": "python3"
  },
  "language_info": {
   "codemirror_mode": {
    "name": "ipython",
    "version": 3
   },
   "file_extension": ".py",
   "mimetype": "text/x-python",
   "name": "python",
   "nbconvert_exporter": "python",
   "pygments_lexer": "ipython3",
   "version": "3.9.13"
  },
  "orig_nbformat": 4,
  "vscode": {
   "interpreter": {
    "hash": "294a0b9bfc79ce88e29f56e11670a78bb3a231581d3d3954ad0b1fa1a01a617d"
   }
  }
 },
 "nbformat": 4,
 "nbformat_minor": 2
}
