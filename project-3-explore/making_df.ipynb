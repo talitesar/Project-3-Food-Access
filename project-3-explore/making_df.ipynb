{
 "cells": [
  {
   "cell_type": "code",
   "execution_count": 4,
   "metadata": {},
   "outputs": [],
   "source": [
    "import pandas as pd\n",
    "import requests\n",
    "import json\n",
    "import numpy as np\n"
   ]
  },
  {
   "cell_type": "code",
   "execution_count": 5,
   "metadata": {},
   "outputs": [],
   "source": [
    "filepath = \"\"\"../2019 Food Access Research Atlas Data/Food Access Research Atlas.csv\"\"\"\n",
    "data = pd.read_csv(filepath)"
   ]
  },
  {
   "cell_type": "code",
   "execution_count": 6,
   "metadata": {},
   "outputs": [],
   "source": [
    "texas = data.loc[data[\"State\"]==\"Texas\",:]\n",
    "texas = texas[['CensusTract','State','County','Urban','Pop2010','OHU2010','LILATracts_1And10','LILATracts_halfAnd10','HUNVFlag','LowIncomeTracts',\n",
    "'PovertyRate','MedianFamilyIncome','LA1and10','LAhalfand10','LATracts_half','LALOWI1_10','LALOWI05_10','lahunvhalf','lahunvhalfshare']]"
   ]
  },
  {
   "cell_type": "code",
   "execution_count": 7,
   "metadata": {},
   "outputs": [],
   "source": [
    "# Open McDonald's JSON file\n",
    "json_file = open(\"mcdata.json\")\n",
    "mcdonalds = json.load(json_file)[\"features\"]\n",
    "\n",
    "# Store all the McDonalds in Texas\n",
    "mcdonalds_tx = [store for store in mcdonalds if store['properties']['state']=='TX']\n",
    "\n",
    "# Store lats and lons of each McDonald's restaurant in US\n",
    "lats = [store['geometry']['coordinates'][1] for store in mcdonalds_tx]\n",
    "lons = [store['geometry']['coordinates'][0] for store in mcdonalds_tx]"
   ]
  },
  {
   "cell_type": "code",
   "execution_count": 8,
   "metadata": {},
   "outputs": [],
   "source": [
    "# Store the base URL - this API takes geographical coordinates and returns the Census Tract that those coordinates fall into\n",
    "base_url = \"https://geo.fcc.gov/api/census/area?\"\n",
    "\n",
    "# Initialize an empty list to store the census tract info for each store\n",
    "census_tracts = []\n",
    "\n",
    "# Loop through the stores in texas using enumerate\n",
    "for i in range(len(mcdonalds_tx)):\n",
    "\n",
    "    # create a url for each store using the latitude and longitutde and base\n",
    "    store_url = f'{base_url}lat={lats[i]}&lon={lons[i]}&censusYear=2010&format=json'\n",
    "\n",
    "   # Run API request for each store\n",
    "    try:\n",
    "        # Store the results\n",
    "       results = requests.get(store_url).json()\n",
    "       \n",
    "       # Store the tract number - NOTE: only the first 11 digits because the API number is more specific than the Food Access Research Atlas\n",
    "       tract = results[\"results\"][0][\"block_fips\"][0:-4]\n",
    "\n",
    "        # Append the tract number to a list\n",
    "       census_tracts.append(tract)\n",
    "\n",
    "    except:\n",
    "       print(\"No tract available\")\n",
    "       pass\n"
   ]
  },
  {
   "cell_type": "code",
   "execution_count": 9,
   "metadata": {},
   "outputs": [],
   "source": [
    "census_tracts = [int(tract) for tract in census_tracts]\n",
    "mctracts = pd.DataFrame(census_tracts, columns=[\"CensusTract\"])\n",
    "mctracts[\"HasMcD\"] = 1\n",
    "mctracts_grp = mctracts.groupby(\"CensusTract\")\n",
    "mctracts2 = pd.DataFrame(mctracts.groupby(\"CensusTract\")[\"HasMcD\"].sum())\n",
    "mctracts = mctracts.drop_duplicates(\"CensusTract\")\n",
    "mctracts_final = pd.merge(mctracts,mctracts2,on=\"CensusTract\")\n",
    "mctracts_final = mctracts_final.rename(columns = {\"HasMcD_x\":\"HasMcD\",\"HasMcD_y\":\"CountMcD\"})\n"
   ]
  },
  {
   "cell_type": "code",
   "execution_count": 11,
   "metadata": {},
   "outputs": [
    {
     "name": "stdout",
     "output_type": "stream",
     "text": [
      "<class 'pandas.core.frame.DataFrame'>\n",
      "Int64Index: 5238 entries, 0 to 5237\n",
      "Data columns (total 21 columns):\n",
      " #   Column                Non-Null Count  Dtype  \n",
      "---  ------                --------------  -----  \n",
      " 0   CensusTract           5238 non-null   int64  \n",
      " 1   State                 5238 non-null   object \n",
      " 2   County                5238 non-null   object \n",
      " 3   Urban                 5238 non-null   int64  \n",
      " 4   Pop2010               5238 non-null   int64  \n",
      " 5   OHU2010               5238 non-null   int64  \n",
      " 6   LILATracts_1And10     5238 non-null   int64  \n",
      " 7   LILATracts_halfAnd10  5238 non-null   int64  \n",
      " 8   HUNVFlag              5238 non-null   int64  \n",
      " 9   LowIncomeTracts       5238 non-null   int64  \n",
      " 10  PovertyRate           5238 non-null   float64\n",
      " 11  MedianFamilyIncome    5187 non-null   float64\n",
      " 12  LA1and10              5238 non-null   int64  \n",
      " 13  LAhalfand10           5238 non-null   int64  \n",
      " 14  LATracts_half         5238 non-null   int64  \n",
      " 15  LALOWI1_10            3530 non-null   float64\n",
      " 16  LALOWI05_10           4634 non-null   float64\n",
      " 17  lahunvhalf            5160 non-null   float64\n",
      " 18  lahunvhalfshare       5161 non-null   float64\n",
      " 19  HasMcD                5238 non-null   float64\n",
      " 20  CountMcD              5238 non-null   float64\n",
      "dtypes: float64(8), int64(11), object(2)\n",
      "memory usage: 900.3+ KB\n"
     ]
    }
   ],
   "source": [
    "tx_tracts = texas.merge(mctracts_final,how=\"left\", on=\"CensusTract\")\n",
    "tx_tracts[[\"HasMcD\",\"CountMcD\"]] = tx_tracts[[\"HasMcD\",\"CountMcD\"]].fillna(0)\n",
    "tx_tracts.info()"
   ]
  },
  {
   "cell_type": "code",
   "execution_count": null,
   "metadata": {},
   "outputs": [],
   "source": []
  }
 ],
 "metadata": {
  "kernelspec": {
   "display_name": "base",
   "language": "python",
   "name": "python3"
  },
  "language_info": {
   "codemirror_mode": {
    "name": "ipython",
    "version": 3
   },
   "file_extension": ".py",
   "mimetype": "text/x-python",
   "name": "python",
   "nbconvert_exporter": "python",
   "pygments_lexer": "ipython3",
   "version": "3.9.13"
  },
  "orig_nbformat": 4,
  "vscode": {
   "interpreter": {
    "hash": "294a0b9bfc79ce88e29f56e11670a78bb3a231581d3d3954ad0b1fa1a01a617d"
   }
  }
 },
 "nbformat": 4,
 "nbformat_minor": 2
}
